{
 "cells": [
  {
   "cell_type": "markdown",
   "id": "eca90635-0662-4d2e-91e3-7dd4117ab803",
   "metadata": {},
   "source": [
    "# Tugas Kecil 1 IF3270 Pembelajaran Mesin"
   ]
  },
  {
   "cell_type": "markdown",
   "id": "4b109e0f-1017-48e0-80fc-c79c61ef02c9",
   "metadata": {},
   "source": [
    "### Anggota Kelompok\n",
    "### - 13519057 Kadek Dwi Bagus\n",
    "### - 13519217 Hughie Alghaniyyu Emiliano"
   ]
  },
  {
   "cell_type": "markdown",
   "id": "bf7b0ca6-7dcb-4d3c-9c6d-069b570354b4",
   "metadata": {},
   "source": [
    "#### Import Dataset Breast Cancer"
   ]
  },
  {
   "cell_type": "code",
   "execution_count": null,
   "id": "9c787477-08c8-4a2e-8e50-a34076910b6e",
   "metadata": {},
   "outputs": [],
   "source": [
    "import pandas as pd\n",
    "from sklearn.datasets import load_breast_cancer\n",
    "\n",
    "breast_cancer_data = load_breast_cancer()\n",
    "df = pd.DataFrame(breast_cancer_data.data, columns=breast_cancer_data.feature_names).assign(Species=breast_cancer_data['target_names'][breast_cancer_data.target])\n",
    "df"
   ]
  },
  {
   "cell_type": "markdown",
   "id": "851cda95-7afc-4dc9-8ea9-34c88a9f8202",
   "metadata": {},
   "source": [
    "#### Split Dataset to 80% for Training and 20% for Testing"
   ]
  },
  {
   "cell_type": "code",
   "execution_count": null,
   "id": "3a3aee46-69a7-46df-9998-1b2fc10141ee",
   "metadata": {},
   "outputs": [],
   "source": [
    "from sklearn.model_selection import train_test_split\n",
    "\n",
    "x = pd.DataFrame(breast_cancer_data.data, columns=breast_cancer_data.feature_names)\n",
    "y = breast_cancer_data.target\n",
    "train_data, test_data, train_result, test_result = train_test_split(x, y, test_size=0.20)\n",
    "\n",
    "# data = pd.DataFrame(breast_cancer_data.data, columns=breast_cancer_data.feature_names)\n",
    "# train_data, test_data = train_test_split(data, test_size=0.2, random_state=25)\n",
    "\n",
    "# result = breast_cancer_data.target\n",
    "# train_result, test_result = train_test_split(result, test_size=0.2, random_state=25)\n",
    "\n",
    "train_percentage = round((train_data.shape[0] / (train_data.shape[0] + test_data.shape[0])) * 100, 2)\n",
    "print(f\"Amount of training data : {train_data.shape[0]} ({train_percentage}%)\")\n",
    "\n",
    "test_percentage = round((test_data.shape[0] / (train_data.shape[0] + test_data.shape[0])) * 100, 2)\n",
    "print(f\"Amount of testing data  : {test_data.shape[0]} ({test_percentage}%)\")"
   ]
  },
  {
   "cell_type": "markdown",
   "id": "33fd4e22-5e49-40fa-924a-46c0e71ec100",
   "metadata": {},
   "source": [
    "##### Training Data"
   ]
  },
  {
   "cell_type": "code",
   "execution_count": null,
   "id": "b61e6e14-c70b-42c4-a32d-38ecbd949572",
   "metadata": {},
   "outputs": [],
   "source": [
    "train_data"
   ]
  },
  {
   "cell_type": "markdown",
   "id": "6e645317-4915-4aba-a254-b6ad4c7b7f5f",
   "metadata": {},
   "source": [
    "##### Training Result"
   ]
  },
  {
   "cell_type": "code",
   "execution_count": null,
   "id": "ffe78fa5-c038-4a12-9efc-94b3fcf2fda3",
   "metadata": {},
   "outputs": [],
   "source": [
    "train_result"
   ]
  },
  {
   "cell_type": "markdown",
   "id": "3e461108-bf31-4416-95f8-db3138fcc0dc",
   "metadata": {},
   "source": [
    "##### Testing Data"
   ]
  },
  {
   "cell_type": "code",
   "execution_count": null,
   "id": "df4e3350-8a66-4f85-a16e-caf2caef880c",
   "metadata": {},
   "outputs": [],
   "source": [
    "test_data"
   ]
  },
  {
   "cell_type": "markdown",
   "id": "188b3d02-5c59-40e3-bf35-0610b18bcde0",
   "metadata": {},
   "source": [
    "##### Testing Result"
   ]
  },
  {
   "cell_type": "code",
   "execution_count": null,
   "id": "a696a349-9b4a-4712-acb1-f076134618e3",
   "metadata": {},
   "outputs": [],
   "source": [
    "test_result"
   ]
  },
  {
   "cell_type": "markdown",
   "id": "d2c683d0-122f-436b-8cea-9b7ee860db97",
   "metadata": {},
   "source": [
    "#### K-Means"
   ]
  },
  {
   "cell_type": "code",
   "execution_count": null,
   "id": "cf951515-865e-4aba-a985-9cd419533cc3",
   "metadata": {},
   "outputs": [],
   "source": [
    "from sklearn.cluster import KMeans\n",
    "\n",
    "kmeans = KMeans(n_clusters=2, random_state=0)\n",
    "kmeans.fit(train_data)\n",
    "kmeans.labels_"
   ]
  },
  {
   "cell_type": "code",
   "execution_count": null,
   "id": "d0d69182-8e05-41e1-974f-1317e3dcae00",
   "metadata": {},
   "outputs": [],
   "source": [
    "kmeans.cluster_centers_"
   ]
  },
  {
   "cell_type": "code",
   "execution_count": null,
   "id": "da1b5d22-e787-47e3-9cb8-dbae41c09b10",
   "metadata": {},
   "outputs": [],
   "source": [
    "from sklearn import metrics\n",
    "\n",
    "prediction = kmeans.fit_predict(test_data)\n",
    "print(metrics.confusion_matrix(test_result, prediction))"
   ]
  },
  {
   "cell_type": "code",
   "execution_count": null,
   "id": "9c551f37-6797-4d8d-8e7e-ccc7d552e941",
   "metadata": {},
   "outputs": [],
   "source": [
    "print(metrics.classification_report(test_result, prediction))"
   ]
  },
  {
   "cell_type": "code",
   "execution_count": null,
   "id": "1901300a-cecb-4c12-ad25-0b5fb94b86a1",
   "metadata": {},
   "outputs": [],
   "source": [
    "print(f\"Accuracy     : {metrics.accuracy_score(test_result, prediction)}\")\n",
    "print(f\"Precision    : {metrics.precision_score(test_result, prediction)}\")\n",
    "print(f\"Recall       : {metrics.recall_score(test_result, prediction)}\")"
   ]
  },
  {
   "cell_type": "code",
   "execution_count": null,
   "id": "25069028-1b71-43dd-bccb-bb0cb28a4ccf",
   "metadata": {},
   "outputs": [],
   "source": []
  }
 ],
 "metadata": {
  "kernelspec": {
   "display_name": "Python 3 (ipykernel)",
   "language": "python",
   "name": "python3"
  },
  "language_info": {
   "codemirror_mode": {
    "name": "ipython",
    "version": 3
   },
   "file_extension": ".py",
   "mimetype": "text/x-python",
   "name": "python",
   "nbconvert_exporter": "python",
   "pygments_lexer": "ipython3",
   "version": "3.10.0"
  }
 },
 "nbformat": 4,
 "nbformat_minor": 5
}
