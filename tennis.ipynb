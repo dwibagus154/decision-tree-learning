{
 "cells": [
  {
   "cell_type": "code",
   "execution_count": 2,
   "id": "77e2edf3",
   "metadata": {},
   "outputs": [
    {
     "name": "stdout",
     "output_type": "stream",
     "text": [
      "    day   outlook  temp humidity    wind play\n",
      "0    D1     Sunny   Hot     High    Weak   No\n",
      "1    D2     Sunny   Hot     High  Strong   No\n",
      "2    D3  Overcast   Hot     High    Weak  Yes\n",
      "3    D4      Rain  Mild     High    Weak  Yes\n",
      "4    D5      Rain  Cool   Normal    Weak  Yes\n",
      "5    D6      Rain  Cool   Normal  Strong   No\n",
      "6    D7  Overcast  Cool   Normal  Strong  Yes\n",
      "7    D8     Sunny  Mild     High    Weak   No\n",
      "8    D9     Sunny  Cool   Normal    Weak  Yes\n",
      "9   D10      Rain  Mild   Normal    Weak  Yes\n",
      "10  D11     Sunny  Mild   Normal  Strong  Yes\n",
      "11  D12  Overcast  Mild     High  Strong  Yes\n",
      "12  D13  Overcast   Hot   Normal    Weak  Yes\n",
      "13  D14      Rain  Mild     High  Strong   No\n"
     ]
    }
   ],
   "source": [
    "import pandas as pd \n",
    "\n",
    "from sklearn.model_selection import train_test_split\n",
    "from sklearn import tree\n",
    "from sklearn import preprocessing\n",
    "\n",
    "data = pd.read_csv('play_tennis.csv', sep=',', skiprows=0)\n",
    "print(data)"
   ]
  },
  {
   "cell_type": "code",
   "execution_count": 3,
   "id": "97d1bd5e",
   "metadata": {},
   "outputs": [
    {
     "data": {
      "text/html": [
       "<div>\n",
       "<style scoped>\n",
       "    .dataframe tbody tr th:only-of-type {\n",
       "        vertical-align: middle;\n",
       "    }\n",
       "\n",
       "    .dataframe tbody tr th {\n",
       "        vertical-align: top;\n",
       "    }\n",
       "\n",
       "    .dataframe thead th {\n",
       "        text-align: right;\n",
       "    }\n",
       "</style>\n",
       "<table border=\"1\" class=\"dataframe\">\n",
       "  <thead>\n",
       "    <tr style=\"text-align: right;\">\n",
       "      <th></th>\n",
       "      <th>day</th>\n",
       "      <th>outlook</th>\n",
       "      <th>temp</th>\n",
       "      <th>humidity</th>\n",
       "      <th>wind</th>\n",
       "      <th>play</th>\n",
       "    </tr>\n",
       "  </thead>\n",
       "  <tbody>\n",
       "    <tr>\n",
       "      <th>0</th>\n",
       "      <td>D1</td>\n",
       "      <td>Sunny</td>\n",
       "      <td>Hot</td>\n",
       "      <td>High</td>\n",
       "      <td>Weak</td>\n",
       "      <td>No</td>\n",
       "    </tr>\n",
       "    <tr>\n",
       "      <th>1</th>\n",
       "      <td>D2</td>\n",
       "      <td>Sunny</td>\n",
       "      <td>Hot</td>\n",
       "      <td>High</td>\n",
       "      <td>Strong</td>\n",
       "      <td>No</td>\n",
       "    </tr>\n",
       "    <tr>\n",
       "      <th>2</th>\n",
       "      <td>D3</td>\n",
       "      <td>Overcast</td>\n",
       "      <td>Hot</td>\n",
       "      <td>High</td>\n",
       "      <td>Weak</td>\n",
       "      <td>Yes</td>\n",
       "    </tr>\n",
       "    <tr>\n",
       "      <th>3</th>\n",
       "      <td>D4</td>\n",
       "      <td>Rain</td>\n",
       "      <td>Mild</td>\n",
       "      <td>High</td>\n",
       "      <td>Weak</td>\n",
       "      <td>Yes</td>\n",
       "    </tr>\n",
       "    <tr>\n",
       "      <th>4</th>\n",
       "      <td>D5</td>\n",
       "      <td>Rain</td>\n",
       "      <td>Cool</td>\n",
       "      <td>Normal</td>\n",
       "      <td>Weak</td>\n",
       "      <td>Yes</td>\n",
       "    </tr>\n",
       "  </tbody>\n",
       "</table>\n",
       "</div>"
      ],
      "text/plain": [
       "  day   outlook  temp humidity    wind play\n",
       "0  D1     Sunny   Hot     High    Weak   No\n",
       "1  D2     Sunny   Hot     High  Strong   No\n",
       "2  D3  Overcast   Hot     High    Weak  Yes\n",
       "3  D4      Rain  Mild     High    Weak  Yes\n",
       "4  D5      Rain  Cool   Normal    Weak  Yes"
      ]
     },
     "execution_count": 3,
     "metadata": {},
     "output_type": "execute_result"
    }
   ],
   "source": [
    "data.head()"
   ]
  },
  {
   "cell_type": "code",
   "execution_count": 4,
   "id": "20d90b27",
   "metadata": {},
   "outputs": [],
   "source": [
    "x = data.drop('play', axis=1)\n",
    "y = data['play']"
   ]
  },
  {
   "cell_type": "code",
   "execution_count": 5,
   "id": "1e5855ce",
   "metadata": {},
   "outputs": [
    {
     "name": "stdout",
     "output_type": "stream",
     "text": [
      "    day   outlook  temp humidity    wind\n",
      "0    D1     Sunny   Hot     High    Weak\n",
      "1    D2     Sunny   Hot     High  Strong\n",
      "2    D3  Overcast   Hot     High    Weak\n",
      "3    D4      Rain  Mild     High    Weak\n",
      "4    D5      Rain  Cool   Normal    Weak\n",
      "5    D6      Rain  Cool   Normal  Strong\n",
      "6    D7  Overcast  Cool   Normal  Strong\n",
      "7    D8     Sunny  Mild     High    Weak\n",
      "8    D9     Sunny  Cool   Normal    Weak\n",
      "9   D10      Rain  Mild   Normal    Weak\n",
      "10  D11     Sunny  Mild   Normal  Strong\n",
      "11  D12  Overcast  Mild     High  Strong\n",
      "12  D13  Overcast   Hot   Normal    Weak\n",
      "13  D14      Rain  Mild     High  Strong\n",
      "0      No\n",
      "1      No\n",
      "2     Yes\n",
      "3     Yes\n",
      "4     Yes\n",
      "5      No\n",
      "6     Yes\n",
      "7      No\n",
      "8     Yes\n",
      "9     Yes\n",
      "10    Yes\n",
      "11    Yes\n",
      "12    Yes\n",
      "13     No\n",
      "Name: play, dtype: object\n"
     ]
    }
   ],
   "source": [
    "print(x)\n",
    "print(y)"
   ]
  },
  {
   "cell_type": "code",
   "execution_count": 6,
   "id": "030c728e",
   "metadata": {},
   "outputs": [],
   "source": [
    "x_train, x_test, y_train, y_test = train_test_split(x,y, test_size=0.2, random_state=1)"
   ]
  },
  {
   "cell_type": "code",
   "execution_count": 7,
   "id": "30cc32b2",
   "metadata": {},
   "outputs": [
    {
     "name": "stdout",
     "output_type": "stream",
     "text": [
      "    day   outlook  temp humidity    wind\n",
      "2    D3  Overcast   Hot     High    Weak\n",
      "10  D11     Sunny  Mild   Normal  Strong\n",
      "4    D5      Rain  Cool   Normal    Weak\n",
      "1    D2     Sunny   Hot     High  Strong\n",
      "12  D13  Overcast   Hot   Normal    Weak\n",
      "0    D1     Sunny   Hot     High    Weak\n",
      "13  D14      Rain  Mild     High  Strong\n",
      "9   D10      Rain  Mild   Normal    Weak\n",
      "8    D9     Sunny  Cool   Normal    Weak\n",
      "11  D12  Overcast  Mild     High  Strong\n",
      "5    D6      Rain  Cool   Normal  Strong\n",
      "-----------\n",
      "  day   outlook  temp humidity    wind\n",
      "3  D4      Rain  Mild     High    Weak\n",
      "7  D8     Sunny  Mild     High    Weak\n",
      "6  D7  Overcast  Cool   Normal  Strong\n",
      "-----------\n",
      "2     Yes\n",
      "10    Yes\n",
      "4     Yes\n",
      "1      No\n",
      "12    Yes\n",
      "0      No\n",
      "13     No\n",
      "9     Yes\n",
      "8     Yes\n",
      "11    Yes\n",
      "5      No\n",
      "Name: play, dtype: object\n",
      "-----------\n",
      "3    Yes\n",
      "7     No\n",
      "6    Yes\n",
      "Name: play, dtype: object\n"
     ]
    }
   ],
   "source": [
    "print(x_train)\n",
    "print(\"-----------\")\n",
    "print(x_test)\n",
    "print(\"-----------\")\n",
    "print(y_train)\n",
    "print(\"-----------\")\n",
    "print(y_test)"
   ]
  },
  {
   "cell_type": "code",
   "execution_count": 10,
   "id": "154f0bcf",
   "metadata": {},
   "outputs": [],
   "source": [
    "labelEncoder = preprocessing.LabelEncoder()"
   ]
  },
  {
   "cell_type": "code",
   "execution_count": 18,
   "id": "97ea13dd",
   "metadata": {},
   "outputs": [
    {
     "data": {
      "text/html": [
       "<div>\n",
       "<style scoped>\n",
       "    .dataframe tbody tr th:only-of-type {\n",
       "        vertical-align: middle;\n",
       "    }\n",
       "\n",
       "    .dataframe tbody tr th {\n",
       "        vertical-align: top;\n",
       "    }\n",
       "\n",
       "    .dataframe thead th {\n",
       "        text-align: right;\n",
       "    }\n",
       "</style>\n",
       "<table border=\"1\" class=\"dataframe\">\n",
       "  <thead>\n",
       "    <tr style=\"text-align: right;\">\n",
       "      <th></th>\n",
       "      <th>day</th>\n",
       "      <th>outlook</th>\n",
       "      <th>temp</th>\n",
       "      <th>humidity</th>\n",
       "      <th>wind</th>\n",
       "      <th>play</th>\n",
       "    </tr>\n",
       "  </thead>\n",
       "  <tbody>\n",
       "    <tr>\n",
       "      <th>0</th>\n",
       "      <td>D1</td>\n",
       "      <td>2</td>\n",
       "      <td>1</td>\n",
       "      <td>0</td>\n",
       "      <td>1</td>\n",
       "      <td>0</td>\n",
       "    </tr>\n",
       "    <tr>\n",
       "      <th>1</th>\n",
       "      <td>D2</td>\n",
       "      <td>2</td>\n",
       "      <td>1</td>\n",
       "      <td>0</td>\n",
       "      <td>0</td>\n",
       "      <td>0</td>\n",
       "    </tr>\n",
       "    <tr>\n",
       "      <th>2</th>\n",
       "      <td>D3</td>\n",
       "      <td>0</td>\n",
       "      <td>1</td>\n",
       "      <td>0</td>\n",
       "      <td>1</td>\n",
       "      <td>1</td>\n",
       "    </tr>\n",
       "    <tr>\n",
       "      <th>3</th>\n",
       "      <td>D4</td>\n",
       "      <td>1</td>\n",
       "      <td>2</td>\n",
       "      <td>0</td>\n",
       "      <td>1</td>\n",
       "      <td>1</td>\n",
       "    </tr>\n",
       "    <tr>\n",
       "      <th>4</th>\n",
       "      <td>D5</td>\n",
       "      <td>1</td>\n",
       "      <td>0</td>\n",
       "      <td>1</td>\n",
       "      <td>1</td>\n",
       "      <td>1</td>\n",
       "    </tr>\n",
       "  </tbody>\n",
       "</table>\n",
       "</div>"
      ],
      "text/plain": [
       "  day  outlook  temp  humidity  wind  play\n",
       "0  D1        2     1         0     1     0\n",
       "1  D2        2     1         0     0     0\n",
       "2  D3        0     1         0     1     1\n",
       "3  D4        1     2         0     1     1\n",
       "4  D5        1     0         1     1     1"
      ]
     },
     "execution_count": 18,
     "metadata": {},
     "output_type": "execute_result"
    }
   ],
   "source": [
    "data['outlook']= labelEncoder.fit_transform(data['outlook'])\n",
    "data['temp'] = labelEncoder.fit_transform(data['temp'])\n",
    "data['humidity'] = labelEncoder.fit_transform(data['humidity'])\n",
    "data['wind'] = labelEncoder.fit_transform(data['wind'])\n",
    "data['play'] = labelEncoder.fit_transform(data['play'])\n",
    "data.head()"
   ]
  },
  {
   "cell_type": "code",
   "execution_count": 29,
   "id": "42171f4e",
   "metadata": {},
   "outputs": [
    {
     "name": "stdout",
     "output_type": "stream",
     "text": [
      "    outlook  temp  humidity  wind  play\n",
      "0         2     1         0     1     0\n",
      "1         2     1         0     0     0\n",
      "2         0     1         0     1     1\n",
      "3         1     2         0     1     1\n",
      "4         1     0         1     1     1\n",
      "5         1     0         1     0     0\n",
      "6         0     0         1     0     1\n",
      "7         2     2         0     1     0\n",
      "8         2     0         1     1     1\n",
      "9         1     2         1     1     1\n",
      "10        2     2         1     0     1\n",
      "11        0     2         0     0     1\n",
      "12        0     1         1     1     1\n",
      "13        1     2         0     0     0\n",
      "0     0\n",
      "1     0\n",
      "2     1\n",
      "3     1\n",
      "4     1\n",
      "5     0\n",
      "6     1\n",
      "7     0\n",
      "8     1\n",
      "9     1\n",
      "10    1\n",
      "11    1\n",
      "12    1\n",
      "13    0\n",
      "Name: play, dtype: int64\n"
     ]
    }
   ],
   "source": [
    "x = data.drop('play', axis=1)\n",
    "x = data.drop('day', axis=1)\n",
    "y = data['play']\n",
    "print(x)\n",
    "print(y)"
   ]
  },
  {
   "cell_type": "code",
   "execution_count": 30,
   "id": "a2578d27",
   "metadata": {},
   "outputs": [],
   "source": [
    "x_train, x_test, y_train, y_test = train_test_split(x,y, test_size=0.2, random_state=1)"
   ]
  },
  {
   "cell_type": "code",
   "execution_count": 31,
   "id": "021178e9",
   "metadata": {},
   "outputs": [
    {
     "name": "stdout",
     "output_type": "stream",
     "text": [
      "    outlook  temp  humidity  wind  play\n",
      "2         0     1         0     1     1\n",
      "10        2     2         1     0     1\n",
      "4         1     0         1     1     1\n",
      "1         2     1         0     0     0\n",
      "12        0     1         1     1     1\n",
      "0         2     1         0     1     0\n",
      "13        1     2         0     0     0\n",
      "9         1     2         1     1     1\n",
      "8         2     0         1     1     1\n",
      "11        0     2         0     0     1\n",
      "5         1     0         1     0     0\n",
      "-----------\n",
      "   outlook  temp  humidity  wind  play\n",
      "3        1     2         0     1     1\n",
      "7        2     2         0     1     0\n",
      "6        0     0         1     0     1\n",
      "-----------\n",
      "2     1\n",
      "10    1\n",
      "4     1\n",
      "1     0\n",
      "12    1\n",
      "0     0\n",
      "13    0\n",
      "9     1\n",
      "8     1\n",
      "11    1\n",
      "5     0\n",
      "Name: play, dtype: int64\n",
      "-----------\n",
      "3    1\n",
      "7    0\n",
      "6    1\n",
      "Name: play, dtype: int64\n"
     ]
    }
   ],
   "source": [
    "print(x_train)\n",
    "print(\"-----------\")\n",
    "print(x_test)\n",
    "print(\"-----------\")\n",
    "print(y_train)\n",
    "print(\"-----------\")\n",
    "print(y_test)"
   ]
  },
  {
   "cell_type": "code",
   "execution_count": 32,
   "id": "66a09d1d",
   "metadata": {},
   "outputs": [
    {
     "data": {
      "text/plain": [
       "[Text(0.5, 0.75, 'X[4] <= 0.5\\ngini = 0.463\\nsamples = 11\\nvalue = [4, 7]'),\n",
       " Text(0.25, 0.25, 'gini = 0.0\\nsamples = 4\\nvalue = [4, 0]'),\n",
       " Text(0.75, 0.25, 'gini = 0.0\\nsamples = 7\\nvalue = [0, 7]')]"
      ]
     },
     "execution_count": 32,
     "metadata": {},
     "output_type": "execute_result"
    },
    {
     "data": {
      "image/png": "[encoded data removed]",
      "text/plain": [
       "<Figure size 432x288 with 1 Axes>"
      ]
     },
     "metadata": {
      "needs_background": "light"
     },
     "output_type": "display_data"
    }
   ],
   "source": [
    "#Decision TreeClassifier\n",
    "clf = tree.DecisionTreeClassifier()\n",
    "clf.fit(x_train, y_train)\n",
    "tree.plot_tree(clf)"
   ]
  },
  {
   "cell_type": "code",
   "execution_count": 33,
   "id": "24d161ab",
   "metadata": {},
   "outputs": [],
   "source": []
  },
  {
   "cell_type": "code",
   "execution_count": null,
   "id": "5c7a4038",
   "metadata": {},
   "outputs": [],
   "source": []
  }
 ],
 "metadata": {
  "kernelspec": {
   "display_name": "Python 3",
   "language": "python",
   "name": "python3"
  },
  "language_info": {
   "codemirror_mode": {
    "name": "ipython",
    "version": 3
   },
   "file_extension": ".py",
   "mimetype": "text/x-python",
   "name": "python",
   "nbconvert_exporter": "python",
   "pygments_lexer": "ipython3",
   "version": "3.9.1"
  }
 },
 "nbformat": 4,
 "nbformat_minor": 5
}
